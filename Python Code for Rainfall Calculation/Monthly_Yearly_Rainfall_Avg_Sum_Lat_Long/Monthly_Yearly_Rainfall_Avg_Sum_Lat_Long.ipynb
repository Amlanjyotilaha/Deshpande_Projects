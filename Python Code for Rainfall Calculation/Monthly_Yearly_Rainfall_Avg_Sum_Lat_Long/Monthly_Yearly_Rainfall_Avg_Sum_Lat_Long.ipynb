{
 "cells": [
  {
   "cell_type": "markdown",
   "id": "7ef9f95d-64ab-40e1-8046-8b7bd989472a",
   "metadata": {},
   "source": [
    "# Monthly_Yearly_Rainfall_DailyAvg_&_Sum_Lat_Long\n",
    "#### 1. Monthly Rainfall Daily_Avg & Sum Lat Long Wise\n",
    "#### 2. Yearly Rainfall Daily_Avg & Sum Lat Long Wise"
   ]
  },
  {
   "cell_type": "markdown",
   "id": "e5660b03-4616-4ff7-a9b8-aaf8c2348fdc",
   "metadata": {},
   "source": [
    "### 1. Monthly Rainfall Daily_Avg & Sum Lat Long Wise"
   ]
  },
  {
   "cell_type": "markdown",
   "id": "bdee731e-1f33-434e-bb5b-25f4929b1e0a",
   "metadata": {},
   "source": [
    "### Output Table\n",
    "Latitude | Longitude | Sum_1 | Mean_1 | Sum_2 | Mean_2 | ... | Sum_12 | Mean_12\r\n"
   ]
  },
  {
   "cell_type": "code",
   "execution_count": 2,
   "id": "c1aff9d6-36d9-49dc-8c10-944d0a4e67ca",
   "metadata": {},
   "outputs": [
    {
     "name": "stdout",
     "output_type": "stream",
     "text": [
      "Columns in the CSV: ['time', 'longitude', 'latitude', 'APCP_sfc']\n",
      "Processed and saved: Z:\\Rainfall data and processing\\Monthly_Rainfall_Avg_Sum_Lat_Long\\monthly_rain2012.csv\n",
      "Columns in the CSV: ['time', 'longitude', 'latitude', 'APCP_sfc']\n",
      "Processed and saved: Z:\\Rainfall data and processing\\Monthly_Rainfall_Avg_Sum_Lat_Long\\monthly_rain2013.csv\n",
      "Columns in the CSV: ['time', 'longitude', 'latitude', 'APCP_sfc']\n",
      "Processed and saved: Z:\\Rainfall data and processing\\Monthly_Rainfall_Avg_Sum_Lat_Long\\monthly_rain2014.csv\n",
      "Columns in the CSV: ['time', 'longitude', 'latitude', 'APCP_sfc']\n",
      "Processed and saved: Z:\\Rainfall data and processing\\Monthly_Rainfall_Avg_Sum_Lat_Long\\monthly_rain2015.csv\n",
      "Columns in the CSV: ['time', 'longitude', 'latitude', 'APCP_sfc']\n",
      "Processed and saved: Z:\\Rainfall data and processing\\Monthly_Rainfall_Avg_Sum_Lat_Long\\monthly_rain2016.csv\n",
      "Columns in the CSV: ['time', 'longitude', 'latitude', 'APCP_sfc']\n",
      "Processed and saved: Z:\\Rainfall data and processing\\Monthly_Rainfall_Avg_Sum_Lat_Long\\monthly_rain2017.csv\n",
      "Columns in the CSV: ['time', 'longitude', 'latitude', 'APCP_sfc']\n",
      "Processed and saved: Z:\\Rainfall data and processing\\Monthly_Rainfall_Avg_Sum_Lat_Long\\monthly_rain2018.csv\n",
      "Columns in the CSV: ['time', 'longitude', 'latitude', 'APCP_sfc']\n",
      "Processed and saved: Z:\\Rainfall data and processing\\Monthly_Rainfall_Avg_Sum_Lat_Long\\monthly_rain2019.csv\n",
      "Columns in the CSV: ['time', 'longitude', 'latitude', 'APCP_sfc']\n",
      "Processed and saved: Z:\\Rainfall data and processing\\Monthly_Rainfall_Avg_Sum_Lat_Long\\monthly_rain2020.csv\n",
      "Columns in the CSV: ['time', 'longitude', 'latitude', 'APCP_sfc']\n",
      "Processed and saved: Z:\\Rainfall data and processing\\Monthly_Rainfall_Avg_Sum_Lat_Long\\monthly_rain2021.csv\n",
      "Columns in the CSV: ['time', 'longitude', 'latitude', 'APCP_sfc']\n",
      "Processed and saved: Z:\\Rainfall data and processing\\Monthly_Rainfall_Avg_Sum_Lat_Long\\monthly_rain2022.csv\n",
      "Columns in the CSV: ['time', 'longitude', 'latitude', 'APCP_sfc']\n",
      "Processed and saved: Z:\\Rainfall data and processing\\Monthly_Rainfall_Avg_Sum_Lat_Long\\monthly_rain2023.csv\n"
     ]
    }
   ],
   "source": [
    "import pandas as pd\n",
    "import os\n",
    "import calendar\n",
    "\n",
    "# Function to process each CSV file and calculate monthly sum and average daily rainfall\n",
    "def process_rainfall_data(file_path, output_file, year):\n",
    "    # Read the CSV file\n",
    "    df = pd.read_csv(file_path)\n",
    "    \n",
    "    # Inspect the columns\n",
    "    print(f\"Columns in the CSV: {df.columns.tolist()}\")  # Check column names\n",
    "    \n",
    "    # Clean up column names by stripping whitespace\n",
    "    df.columns = df.columns.str.strip()\n",
    "    \n",
    "    # Check if latitude and longitude columns are present\n",
    "    if 'latitude' not in df.columns or 'longitude' not in df.columns:\n",
    "        raise KeyError(\"The required columns 'latitude' and 'longitude' are missing from the CSV file.\")\n",
    "    \n",
    "    # Filter rows for the specified year\n",
    "    df = df[df['time'].str.startswith(year)]\n",
    "    \n",
    "    # Convert 'time' column to datetime format\n",
    "    df['time'] = pd.to_datetime(df['time'], errors='coerce')\n",
    "    \n",
    "    # Drop rows with invalid timestamps\n",
    "    df = df.dropna(subset=['time'])\n",
    "    \n",
    "    # Extract year and month from the 'time' column\n",
    "    df['year'] = df['time'].dt.year\n",
    "    df['month'] = df['time'].dt.month\n",
    "    \n",
    "    # Group by latitude, longitude, and month to calculate the sum\n",
    "    monthly_stats = df.groupby(['year', 'month', 'longitude', 'latitude']).agg(\n",
    "        monthly_sum=('APCP_sfc', 'sum')\n",
    "    ).reset_index()\n",
    "    \n",
    "    # Calculate the number of days in each month\n",
    "    monthly_stats['days_in_month'] = monthly_stats['month'].apply(lambda m: calendar.monthrange(int(year), m)[1])\n",
    "    \n",
    "    # Calculate average daily rainfall by dividing total monthly rainfall by the number of days\n",
    "    monthly_stats['avg_daily_rainfall'] = monthly_stats['monthly_sum'] / monthly_stats['days_in_month']\n",
    "    \n",
    "    # Pivot the data to have separate columns for each month's sum and daily average\n",
    "    pivot_sum = monthly_stats.pivot_table(index=['latitude', 'longitude'], \n",
    "                                          columns='month', \n",
    "                                          values='monthly_sum', \n",
    "                                          fill_value=0).add_prefix('Sum_')\n",
    "    \n",
    "    pivot_avg_daily = monthly_stats.pivot_table(index=['latitude', 'longitude'], \n",
    "                                                columns='month', \n",
    "                                                values='avg_daily_rainfall', \n",
    "                                                fill_value=0).add_prefix('Mean_')\n",
    "    \n",
    "    # Combine the sum and average daily pivot tables\n",
    "    combined = pd.concat([pivot_sum, pivot_avg_daily], axis=1)\n",
    "    \n",
    "    # Reorder columns for the desired layout: sum_1, mean_1, sum_2, mean_2, ..., sum_12, mean_12\n",
    "    new_columns = []\n",
    "    for month in range(1, 13):\n",
    "        new_columns.append(f'Sum_{month}')\n",
    "        new_columns.append(f'Mean_{month}')\n",
    "    \n",
    "    # Sort and reorder columns\n",
    "    combined = combined[new_columns]\n",
    "    \n",
    "    # Reset index to get 'latitude' and 'longitude' as columns\n",
    "    combined = combined.reset_index()\n",
    "\n",
    "    # Export the result to a new CSV file\n",
    "    combined.to_csv(output_file, index=False)\n",
    "    print(f\"Processed and saved: {output_file}\")\n",
    "\n",
    "# Function to iterate through all files and process them\n",
    "def process_all_files(input_folder, output_folder):\n",
    "    for file_name in os.listdir(input_folder):\n",
    "        if file_name.startswith('rain') and file_name.endswith('.csv'):\n",
    "            year = file_name[4:8]  # Extract year from filename (e.g., '2012' from 'rain2012.csv')\n",
    "            input_file = os.path.join(input_folder, file_name)\n",
    "            output_file = os.path.join(output_folder, f\"monthly_rain{year}.csv\")\n",
    "            process_rainfall_data(input_file, output_file, year)\n",
    "\n",
    "# Define input and output folders\n",
    "input_folder = r\"Z:\\Rainfall data and processing\\Rainfall_data\"  # Replace with the path to your input folder\n",
    "output_folder = r\"Z:\\Rainfall data and processing\\Monthly_Rainfall_Avg_Sum_Lat_Long\"  # Replace with the path to your output folder\n",
    "\n",
    "# Process all CSV files\n",
    "process_all_files(input_folder, output_folder)\n"
   ]
  },
  {
   "cell_type": "markdown",
   "id": "9c27ee00-c30e-4346-a0b7-0707f69e8169",
   "metadata": {},
   "source": [
    " "
   ]
  },
  {
   "cell_type": "markdown",
   "id": "61fc9c6a-622a-4e68-b758-2d487df43edc",
   "metadata": {},
   "source": [
    " "
   ]
  },
  {
   "cell_type": "markdown",
   "id": "b5b45076-260a-446c-9236-01bb7e71be1b",
   "metadata": {},
   "source": [
    "### 2. Yearly Rainfall Daily Avg & Sum Lat Long Wise"
   ]
  },
  {
   "cell_type": "markdown",
   "id": "007056b0-754a-43c6-a23b-dc80792baa47",
   "metadata": {},
   "source": [
    "### Output Table\n",
    "Latitude | Longitude | Year Sum | Year Mean\r\n"
   ]
  },
  {
   "cell_type": "code",
   "execution_count": 6,
   "id": "e6116502-9d8e-4b29-a889-cac9d0295f66",
   "metadata": {},
   "outputs": [
    {
     "name": "stdout",
     "output_type": "stream",
     "text": [
      "Processed and saved: Z:\\Rainfall data and processing\\Yearly_Rainfall_Avg_Sum_Lat_Long\\yearly_rain2012.csv\n",
      "Processed and saved: Z:\\Rainfall data and processing\\Yearly_Rainfall_Avg_Sum_Lat_Long\\yearly_rain2013.csv\n",
      "Processed and saved: Z:\\Rainfall data and processing\\Yearly_Rainfall_Avg_Sum_Lat_Long\\yearly_rain2014.csv\n",
      "Processed and saved: Z:\\Rainfall data and processing\\Yearly_Rainfall_Avg_Sum_Lat_Long\\yearly_rain2015.csv\n",
      "Processed and saved: Z:\\Rainfall data and processing\\Yearly_Rainfall_Avg_Sum_Lat_Long\\yearly_rain2016.csv\n",
      "Processed and saved: Z:\\Rainfall data and processing\\Yearly_Rainfall_Avg_Sum_Lat_Long\\yearly_rain2017.csv\n",
      "Processed and saved: Z:\\Rainfall data and processing\\Yearly_Rainfall_Avg_Sum_Lat_Long\\yearly_rain2018.csv\n",
      "Processed and saved: Z:\\Rainfall data and processing\\Yearly_Rainfall_Avg_Sum_Lat_Long\\yearly_rain2019.csv\n",
      "Processed and saved: Z:\\Rainfall data and processing\\Yearly_Rainfall_Avg_Sum_Lat_Long\\yearly_rain2020.csv\n",
      "Processed and saved: Z:\\Rainfall data and processing\\Yearly_Rainfall_Avg_Sum_Lat_Long\\yearly_rain2021.csv\n",
      "Processed and saved: Z:\\Rainfall data and processing\\Yearly_Rainfall_Avg_Sum_Lat_Long\\yearly_rain2022.csv\n",
      "Processed and saved: Z:\\Rainfall data and processing\\Yearly_Rainfall_Avg_Sum_Lat_Long\\yearly_rain2023.csv\n"
     ]
    }
   ],
   "source": [
    "import pandas as pd\n",
    "import os\n",
    "import calendar\n",
    "\n",
    "# Function to process each CSV file and calculate yearly sum and average\n",
    "def process_rainfall_data(file_path, output_file, year):\n",
    "    # Read the CSV file\n",
    "    df = pd.read_csv(file_path)\n",
    "    \n",
    "    # Filter rows for the specified year\n",
    "    df = df[df['time'].str.startswith(year)]\n",
    "    \n",
    "    # Convert 'time' column to datetime format\n",
    "    df['time'] = pd.to_datetime(df['time'], errors='coerce')\n",
    "    \n",
    "    # Drop rows with invalid timestamps\n",
    "    df = df.dropna(subset=['time'])\n",
    "    \n",
    "    # Extract year and month from the 'time' column\n",
    "    df['year'] = df['time'].dt.year\n",
    "    df['month'] = df['time'].dt.month\n",
    "    \n",
    "    # Group by latitude and longitude to calculate yearly sum and mean\n",
    "    yearly_stats = df.groupby(['year', 'longitude', 'latitude']).agg(\n",
    "        yearly_sum=('APCP_sfc', 'sum'),\n",
    "    ).reset_index()\n",
    "    \n",
    "    # Calculate the number of days in the year\n",
    "    yearly_stats['days_in_year'] = yearly_stats['year'].apply(lambda x: 366 if calendar.isleap(x) else 365)\n",
    "    \n",
    "    # Calculate average daily rainfall by dividing total yearly rainfall by the number of days\n",
    "    yearly_stats['yearly_mean'] = yearly_stats['yearly_sum'] / yearly_stats['days_in_year']\n",
    "    \n",
    "    # Keep only the relevant columns (latitude, longitude, Year Sum, Year Mean)\n",
    "    yearly_result = yearly_stats[['latitude', 'longitude', 'yearly_sum', 'yearly_mean']].reset_index(drop=True)\n",
    "\n",
    "    # Rename columns for clarity\n",
    "    yearly_result.columns = ['latitude', 'longitude', 'Year Sum', 'Year Mean']\n",
    "\n",
    "    # Export the result to a new CSV file\n",
    "    yearly_result.to_csv(output_file, index=False)\n",
    "    print(f\"Processed and saved: {output_file}\")\n",
    "\n",
    "# Function to iterate through all files and process them\n",
    "def process_all_files(input_folder, output_folder):\n",
    "    for file_name in os.listdir(input_folder):\n",
    "        if file_name.startswith('rain') and file_name.endswith('.csv'):\n",
    "            year = file_name[4:8]  # Extract year from filename (e.g., '2012' from 'rain2012.csv')\n",
    "            input_file = os.path.join(input_folder, file_name)\n",
    "            output_file = os.path.join(output_folder, f\"yearly_rain{year}.csv\")\n",
    "            process_rainfall_data(input_file, output_file, year)\n",
    "\n",
    "# Define input and output folders\n",
    "input_folder = r\"Z:\\Rainfall data and processing\\Rainfall_data\"  # Replace with the path to your input folder\n",
    "output_folder = r\"Z:\\Rainfall data and processing\\Yearly_Rainfall_Avg_Sum_Lat_Long\"  # Replace with the path to your output folder\n",
    "\n",
    "# Process all CSV files\n",
    "process_all_files(input_folder, output_folder)\n"
   ]
  },
  {
   "cell_type": "code",
   "execution_count": null,
   "id": "77255061-27e0-4479-ad6f-548dd8d1f73e",
   "metadata": {},
   "outputs": [],
   "source": []
  }
 ],
 "metadata": {
  "kernelspec": {
   "display_name": "Python 3 (ipykernel)",
   "language": "python",
   "name": "python3"
  },
  "language_info": {
   "codemirror_mode": {
    "name": "ipython",
    "version": 3
   },
   "file_extension": ".py",
   "mimetype": "text/x-python",
   "name": "python",
   "nbconvert_exporter": "python",
   "pygments_lexer": "ipython3",
   "version": "3.12.4"
  }
 },
 "nbformat": 4,
 "nbformat_minor": 5
}
