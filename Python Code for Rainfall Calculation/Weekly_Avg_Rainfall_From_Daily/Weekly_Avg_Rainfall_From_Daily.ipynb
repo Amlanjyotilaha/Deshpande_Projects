{
 "cells": [
  {
   "cell_type": "code",
   "execution_count": 1,
   "id": "935a36fe-9d60-450d-87fa-f376d022cd65",
   "metadata": {},
   "outputs": [],
   "source": [
    "import pandas as pd\n",
    "import os"
   ]
  },
  {
   "cell_type": "code",
   "execution_count": 2,
   "id": "0899860e-bb46-4eb0-9402-74f385b51272",
   "metadata": {},
   "outputs": [],
   "source": [
    "import pandas as pd\n",
    "import os\n",
    "\n",
    "def calculate_weekly_avg(input_dir, output_dir):\n",
    "    # Loop through all the Excel files in the input directory\n",
    "    for file_name in os.listdir(input_dir):\n",
    "        if file_name.endswith(\".xlsx\"):\n",
    "            # Extract place name and year from the file name (assuming format: W17_2023_daily_rainfall)\n",
    "            place, year = file_name.split('_')[0], file_name.split('_')[1]\n",
    "            year = int(year)  # Convert year to an integer for comparison\n",
    "            \n",
    "            # Read the Excel file\n",
    "            file_path = os.path.join(input_dir, file_name)\n",
    "            df = pd.read_excel(file_path)\n",
    "\n",
    "            # Ensure that the 'date' column is in datetime format\n",
    "            df['date'] = pd.to_datetime(df['date'])\n",
    "\n",
    "            # Filter out any rows where the year in 'date' exceeds the file's year\n",
    "            df = df[df['date'].dt.year <= year]\n",
    "\n",
    "            # Set date as the index for easier resampling\n",
    "            df.set_index('date', inplace=True)\n",
    "\n",
    "            # Resample by week and calculate weekly precipitation average\n",
    "            weekly_df = df['precipitation'].resample('7D').mean().reset_index()\n",
    "\n",
    "            # Add columns for start date, end date, and week number\n",
    "            weekly_df['start_date'] = weekly_df['date']\n",
    "            weekly_df['end_date'] = weekly_df['date'] + pd.DateOffset(days=6)\n",
    "            weekly_df['week_number'] = weekly_df.index + 1\n",
    "\n",
    "            # Rename columns for clarity\n",
    "            weekly_df.rename(columns={'precipitation': 'avg_precipitation'}, inplace=True)\n",
    "\n",
    "            # Drop the date column (already split into start and end date)\n",
    "            weekly_df.drop(columns=['date'], inplace=True)\n",
    "\n",
    "            # Save the result as a new Excel file\n",
    "            output_file_name = f\"{place}_{year}_WEEKLY.xlsx\"\n",
    "            output_file_path = os.path.join(output_dir, output_file_name)\n",
    "            weekly_df.to_excel(output_file_path, index=False)\n",
    "\n",
    "# Specify the input and output directories\n",
    "input_directory = r\"D:\\test\\Daily\"\n",
    "output_directory = r\"D:\\test\\Weekly\"\n",
    "\n",
    "# Make sure the output directory exists\n",
    "if not os.path.exists(output_directory):\n",
    "    os.makedirs(output_directory)\n",
    "\n",
    "# Run the weekly average calculation\n",
    "calculate_weekly_avg(input_directory, output_directory)\n"
   ]
  },
  {
   "cell_type": "code",
   "execution_count": 3,
   "id": "4cdf2764-9b50-446a-8a0e-41c7b9d7527f",
   "metadata": {},
   "outputs": [
    {
     "data": {
      "text/plain": [
       "'D:\\\\Amlanjyothi Laha\\\\Weekly_Rainfall'"
      ]
     },
     "execution_count": 3,
     "metadata": {},
     "output_type": "execute_result"
    }
   ],
   "source": [
    "pwd"
   ]
  },
  {
   "cell_type": "code",
   "execution_count": null,
   "id": "e67ff5cc-c8d8-45d1-a0e0-2320723ed663",
   "metadata": {},
   "outputs": [],
   "source": []
  }
 ],
 "metadata": {
  "kernelspec": {
   "display_name": "Python 3 (ipykernel)",
   "language": "python",
   "name": "python3"
  },
  "language_info": {
   "codemirror_mode": {
    "name": "ipython",
    "version": 3
   },
   "file_extension": ".py",
   "mimetype": "text/x-python",
   "name": "python",
   "nbconvert_exporter": "python",
   "pygments_lexer": "ipython3",
   "version": "3.12.4"
  }
 },
 "nbformat": 4,
 "nbformat_minor": 5
}
