{
 "cells": [
  {
   "cell_type": "code",
   "execution_count": 1,
   "id": "355cbfd8-413b-44b1-9b3e-2fad351d7ee8",
   "metadata": {},
   "outputs": [
    {
     "name": "stdout",
     "output_type": "stream",
     "text": [
      "Processed and saved: Z:\\Rainfall data and processing\\Rainfall_Data_Yearly_Lat_Long\\yearly_rain2012.csv\n",
      "Processed and saved: Z:\\Rainfall data and processing\\Rainfall_Data_Yearly_Lat_Long\\yearly_rain2013.csv\n",
      "Processed and saved: Z:\\Rainfall data and processing\\Rainfall_Data_Yearly_Lat_Long\\yearly_rain2014.csv\n",
      "Processed and saved: Z:\\Rainfall data and processing\\Rainfall_Data_Yearly_Lat_Long\\yearly_rain2015.csv\n",
      "Processed and saved: Z:\\Rainfall data and processing\\Rainfall_Data_Yearly_Lat_Long\\yearly_rain2016.csv\n",
      "Processed and saved: Z:\\Rainfall data and processing\\Rainfall_Data_Yearly_Lat_Long\\yearly_rain2017.csv\n",
      "Processed and saved: Z:\\Rainfall data and processing\\Rainfall_Data_Yearly_Lat_Long\\yearly_rain2018.csv\n",
      "Processed and saved: Z:\\Rainfall data and processing\\Rainfall_Data_Yearly_Lat_Long\\yearly_rain2019.csv\n",
      "Processed and saved: Z:\\Rainfall data and processing\\Rainfall_Data_Yearly_Lat_Long\\yearly_rain2020.csv\n",
      "Processed and saved: Z:\\Rainfall data and processing\\Rainfall_Data_Yearly_Lat_Long\\yearly_rain2021.csv\n",
      "Processed and saved: Z:\\Rainfall data and processing\\Rainfall_Data_Yearly_Lat_Long\\yearly_rain2022.csv\n",
      "Processed and saved: Z:\\Rainfall data and processing\\Rainfall_Data_Yearly_Lat_Long\\yearly_rain2023.csv\n"
     ]
    }
   ],
   "source": [
    "import pandas as pd\n",
    "import os\n",
    "\n",
    "# Function to process each CSV file and calculate average yearly rainfall\n",
    "def process_rainfall_data(file_path, output_file, year):\n",
    "    # Read the CSV file\n",
    "    df = pd.read_csv(file_path)\n",
    "    \n",
    "    # First, filter out any rows where the 'time' column starts with the next year\n",
    "    # Remove rows where the year is greater than the given year\n",
    "    df = df[df['time'].str.startswith(year)]\n",
    "    \n",
    "    # Now convert 'time' column to datetime format\n",
    "    df['time'] = pd.to_datetime(df['time'], errors='coerce')\n",
    "    \n",
    "    # Drop rows with invalid timestamps (i.e., those that couldn't be parsed)\n",
    "    df = df.dropna(subset=['time'])\n",
    "    \n",
    "    # Extract year from the 'time' column\n",
    "    df['year'] = df['time'].dt.year\n",
    "    \n",
    "    # Group by latitude, longitude, and year, then calculate the average rainfall\n",
    "    yearly_rainfall = df.groupby(['year', 'longitude', 'latitude'])['APCP_sfc'].mean().reset_index()\n",
    "    \n",
    "    # Export the result to a new CSV file\n",
    "    yearly_rainfall.to_csv(output_file, index=False)\n",
    "    print(f\"Processed and saved: {output_file}\")\n",
    "\n",
    "# Function to iterate through all files and process them\n",
    "def process_all_files(input_folder, output_folder):\n",
    "    for file_name in os.listdir(input_folder):\n",
    "        if file_name.startswith('rain') and file_name.endswith('.csv'):\n",
    "            year = file_name[4:8]  # Extract year from filename (e.g., '2012' from 'rain2012.csv')\n",
    "            input_file = os.path.join(input_folder, file_name)\n",
    "            output_file = os.path.join(output_folder, f\"yearly_rain{year}.csv\")\n",
    "            process_rainfall_data(input_file, output_file, year)\n",
    "\n",
    "# Define input and output folders\n",
    "input_folder = r\"Z:\\Rainfall data and processing\\Rainfall_data\"  # Replace with the path to your input folder\n",
    "output_folder = r\"Z:\\Rainfall data and processing\\Rainfall_Data_Yearly_Lat_Long\"  # Replace with the path to your output folder\n",
    "\n",
    "# Process all CSV files\n",
    "process_all_files(input_folder, output_folder)\n"
   ]
  },
  {
   "cell_type": "code",
   "execution_count": null,
   "id": "e8d75552-bb2b-41a5-8694-130fa98be5e4",
   "metadata": {},
   "outputs": [],
   "source": []
  }
 ],
 "metadata": {
  "kernelspec": {
   "display_name": "Python 3 (ipykernel)",
   "language": "python",
   "name": "python3"
  },
  "language_info": {
   "codemirror_mode": {
    "name": "ipython",
    "version": 3
   },
   "file_extension": ".py",
   "mimetype": "text/x-python",
   "name": "python",
   "nbconvert_exporter": "python",
   "pygments_lexer": "ipython3",
   "version": "3.12.4"
  }
 },
 "nbformat": 4,
 "nbformat_minor": 5
}
